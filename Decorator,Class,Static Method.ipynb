{
 "cells": [
  {
   "cell_type": "code",
   "execution_count": 3,
   "id": "87caa49c",
   "metadata": {},
   "outputs": [],
   "source": [
    "def test():\n",
    "    print(\"This is start of my func\")\n",
    "    print(\"This is my func to test\")\n",
    "    print(5+4)\n",
    "    print(\"This is end of my func\")    "
   ]
  },
  {
   "cell_type": "code",
   "execution_count": 4,
   "id": "0d9a315a",
   "metadata": {},
   "outputs": [
    {
     "name": "stdout",
     "output_type": "stream",
     "text": [
      "This is start of my func\n",
      "This is my func to test\n",
      "9\n",
      "This is end of my func\n"
     ]
    }
   ],
   "source": [
    "test()"
   ]
  },
  {
   "cell_type": "code",
   "execution_count": 5,
   "id": "48793f8e",
   "metadata": {},
   "outputs": [],
   "source": [
    "def deco(func):\n",
    "    def inner_dec():\n",
    "      print(\"This is start of my func\")\n",
    "      func()\n",
    "      print(\"This is end of my func\")\n",
    "    return inner_dec"
   ]
  },
  {
   "cell_type": "code",
   "execution_count": 7,
   "id": "df44e320",
   "metadata": {},
   "outputs": [],
   "source": [
    "@deco\n",
    "def test1():\n",
    "    print(6+7)"
   ]
  },
  {
   "cell_type": "code",
   "execution_count": 8,
   "id": "1ae2c312",
   "metadata": {},
   "outputs": [
    {
     "name": "stdout",
     "output_type": "stream",
     "text": [
      "This is start of my func\n",
      "13\n",
      "This is end of my func\n"
     ]
    }
   ],
   "source": [
    "test1()"
   ]
  },
  {
   "cell_type": "code",
   "execution_count": 9,
   "id": "66738876",
   "metadata": {},
   "outputs": [],
   "source": [
    "##For measurement of Time"
   ]
  },
  {
   "cell_type": "code",
   "execution_count": 29,
   "id": "dc6fabae",
   "metadata": {},
   "outputs": [],
   "source": [
    "import time\n",
    "def test_timer(func):\n",
    "        def Test_timer_inner():\n",
    "            start= time.time()\n",
    "            func()\n",
    "            end=time.time()\n",
    "            print(end-start)\n",
    "        return Test_timer_inner"
   ]
  },
  {
   "cell_type": "code",
   "execution_count": 30,
   "id": "64105907",
   "metadata": {},
   "outputs": [],
   "source": [
    "@test_timer\n",
    "def test3():\n",
    "    print(3+4)"
   ]
  },
  {
   "cell_type": "code",
   "execution_count": 32,
   "id": "db16638e",
   "metadata": {},
   "outputs": [
    {
     "name": "stdout",
     "output_type": "stream",
     "text": [
      "7\n",
      "6.9141387939453125e-06\n"
     ]
    }
   ],
   "source": [
    "test3()"
   ]
  },
  {
   "cell_type": "code",
   "execution_count": 35,
   "id": "f92885b5",
   "metadata": {},
   "outputs": [],
   "source": [
    "@test_timer\n",
    "def test4():\n",
    "    for i in range(1000000000):\n",
    "        pass"
   ]
  },
  {
   "cell_type": "code",
   "execution_count": 36,
   "id": "ee0a3731",
   "metadata": {},
   "outputs": [
    {
     "name": "stdout",
     "output_type": "stream",
     "text": [
      "10.568579912185669\n"
     ]
    }
   ],
   "source": [
    "test4()"
   ]
  },
  {
   "cell_type": "code",
   "execution_count": 37,
   "id": "7eecfae9",
   "metadata": {},
   "outputs": [],
   "source": [
    "##Class Method"
   ]
  },
  {
   "cell_type": "code",
   "execution_count": 46,
   "id": "90a49ea3",
   "metadata": {},
   "outputs": [],
   "source": [
    "class university:\n",
    "    def __init__(self,name,email):\n",
    "        self.name=name\n",
    "        self.email=email\n",
    "    def student_details(self):\n",
    "        print(self.name,self.email)"
   ]
  },
  {
   "cell_type": "code",
   "execution_count": 47,
   "id": "a44ef764",
   "metadata": {},
   "outputs": [],
   "source": [
    "st=university(\"Rohan\", \"yryg@rrv.com\")"
   ]
  },
  {
   "cell_type": "code",
   "execution_count": 48,
   "id": "253ea5cf",
   "metadata": {},
   "outputs": [
    {
     "data": {
      "text/plain": [
       "'Rohan'"
      ]
     },
     "execution_count": 48,
     "metadata": {},
     "output_type": "execute_result"
    }
   ],
   "source": [
    "st.name"
   ]
  },
  {
   "cell_type": "code",
   "execution_count": 49,
   "id": "b53353ad",
   "metadata": {},
   "outputs": [
    {
     "data": {
      "text/plain": [
       "'yryg@rrv.com'"
      ]
     },
     "execution_count": 49,
     "metadata": {},
     "output_type": "execute_result"
    }
   ],
   "source": [
    "st.email"
   ]
  },
  {
   "cell_type": "code",
   "execution_count": 50,
   "id": "441b21a2",
   "metadata": {},
   "outputs": [
    {
     "name": "stdout",
     "output_type": "stream",
     "text": [
      "Rohan yryg@rrv.com\n"
     ]
    }
   ],
   "source": [
    "st.student_details()"
   ]
  },
  {
   "cell_type": "code",
   "execution_count": 52,
   "id": "91fadf52",
   "metadata": {},
   "outputs": [],
   "source": [
    "class school:\n",
    "    def __init__(self,name,email):\n",
    "        self.name=name\n",
    "        self.email=email\n",
    "        \n",
    "    @classmethod\n",
    "    def details(cls, name,email):\n",
    "        return cls(name,email)\n",
    "        \n",
    "    def student_details(self):\n",
    "        print(self.name,self.email)"
   ]
  },
  {
   "cell_type": "code",
   "execution_count": 54,
   "id": "9f50ee00",
   "metadata": {},
   "outputs": [],
   "source": [
    "su=school.details(\"Rocky\",\"rfgygy@09\")"
   ]
  },
  {
   "cell_type": "code",
   "execution_count": 55,
   "id": "512ec2c7",
   "metadata": {},
   "outputs": [
    {
     "data": {
      "text/plain": [
       "'Rocky'"
      ]
     },
     "execution_count": 55,
     "metadata": {},
     "output_type": "execute_result"
    }
   ],
   "source": [
    "su.name"
   ]
  },
  {
   "cell_type": "code",
   "execution_count": 77,
   "id": "a555cc97",
   "metadata": {},
   "outputs": [],
   "source": [
    "class school1:\n",
    "    mobile_number= 9876512345\n",
    "    \n",
    "    def __init__(self,name,email):\n",
    "        self.name=name\n",
    "        self.email=email\n",
    "        \n",
    "    @classmethod\n",
    "    def change_number(cls,mobile_number):\n",
    "            school1.mobile_number=mobile_number\n",
    "        \n",
    "    @classmethod\n",
    "    def details(cls, name,email):\n",
    "        return cls(name,email)\n",
    "        \n",
    "    def student_details(self):\n",
    "        print(self.name,self.email,school1.mobile_number)"
   ]
  },
  {
   "cell_type": "code",
   "execution_count": 78,
   "id": "fffb58d3",
   "metadata": {},
   "outputs": [
    {
     "data": {
      "text/plain": [
       "9876512345"
      ]
     },
     "execution_count": 78,
     "metadata": {},
     "output_type": "execute_result"
    }
   ],
   "source": [
    "school1.mobile_number"
   ]
  },
  {
   "cell_type": "code",
   "execution_count": 79,
   "id": "f1875478",
   "metadata": {},
   "outputs": [],
   "source": [
    "school1.change_number(9123456789)"
   ]
  },
  {
   "cell_type": "code",
   "execution_count": 80,
   "id": "c18599d9",
   "metadata": {},
   "outputs": [
    {
     "data": {
      "text/plain": [
       "9123456789"
      ]
     },
     "execution_count": 80,
     "metadata": {},
     "output_type": "execute_result"
    }
   ],
   "source": [
    "school1.mobile_number"
   ]
  },
  {
   "cell_type": "code",
   "execution_count": 81,
   "id": "48529e3c",
   "metadata": {},
   "outputs": [],
   "source": [
    "sc=school1.details(\"Rocky\",\"rocky@2118\")"
   ]
  },
  {
   "cell_type": "code",
   "execution_count": 82,
   "id": "82de608a",
   "metadata": {},
   "outputs": [
    {
     "name": "stdout",
     "output_type": "stream",
     "text": [
      "Rocky rocky@2118 9123456789\n"
     ]
    }
   ],
   "source": [
    "sc.student_details()"
   ]
  },
  {
   "cell_type": "code",
   "execution_count": 83,
   "id": "453aa358",
   "metadata": {},
   "outputs": [],
   "source": [
    "class school2:\n",
    "    mobile_number= 9876512345\n",
    "    \n",
    "    def __init__(self,name,email):\n",
    "        self.name=name\n",
    "        self.email=email\n",
    "        \n",
    "    @classmethod\n",
    "    def change_number(cls,mobile_number):\n",
    "            school2.mobile_number=mobile_number\n",
    "        \n",
    "    @classmethod\n",
    "    def details(cls, name,email):\n",
    "        return cls(name,email)\n",
    "        \n",
    "    def student_details(self):\n",
    "        print(self.name,self.email,school2.mobile_number)"
   ]
  },
  {
   "cell_type": "code",
   "execution_count": 85,
   "id": "8fdb12dc",
   "metadata": {},
   "outputs": [],
   "source": [
    "def course_details(cls, course_name):\n",
    "    return course_name"
   ]
  },
  {
   "cell_type": "code",
   "execution_count": 86,
   "id": "19b628ea",
   "metadata": {},
   "outputs": [],
   "source": [
    "school2.course_details=classmethod(course_details)"
   ]
  },
  {
   "cell_type": "code",
   "execution_count": 88,
   "id": "b91b02f3",
   "metadata": {},
   "outputs": [
    {
     "data": {
      "text/plain": [
       "'History'"
      ]
     },
     "execution_count": 88,
     "metadata": {},
     "output_type": "execute_result"
    }
   ],
   "source": [
    "school2.course_details(\"History\")"
   ]
  },
  {
   "cell_type": "code",
   "execution_count": 89,
   "id": "3509c937",
   "metadata": {},
   "outputs": [],
   "source": [
    "def mentor(cls,list_of_mentor):\n",
    "    print(list_of_mentor)"
   ]
  },
  {
   "cell_type": "code",
   "execution_count": 90,
   "id": "ab6ba057",
   "metadata": {},
   "outputs": [],
   "source": [
    "school2.mentor=classmethod(mentor)"
   ]
  },
  {
   "cell_type": "code",
   "execution_count": 91,
   "id": "4e4d41bd",
   "metadata": {},
   "outputs": [
    {
     "name": "stdout",
     "output_type": "stream",
     "text": [
      "['Ram', 'Shyam', 'Hari']\n"
     ]
    }
   ],
   "source": [
    "school2.mentor([\"Ram\",\"Shyam\",\"Hari\"])"
   ]
  },
  {
   "cell_type": "code",
   "execution_count": null,
   "id": "f3d1e09d",
   "metadata": {},
   "outputs": [],
   "source": []
  }
 ],
 "metadata": {
  "kernelspec": {
   "display_name": "Python 3 (ipykernel)",
   "language": "python",
   "name": "python3"
  },
  "language_info": {
   "codemirror_mode": {
    "name": "ipython",
    "version": 3
   },
   "file_extension": ".py",
   "mimetype": "text/x-python",
   "name": "python",
   "nbconvert_exporter": "python",
   "pygments_lexer": "ipython3",
   "version": "3.11.4"
  }
 },
 "nbformat": 4,
 "nbformat_minor": 5
}
